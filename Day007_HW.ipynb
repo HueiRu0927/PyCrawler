{
 "cells": [
  {
   "cell_type": "code",
   "execution_count": null,
   "metadata": {
    "collapsed": true
   },
   "outputs": [],
   "source": [
    "# 1. （簡答題）請問目前提到的這種基於 HTTP 一來一回的網頁傳輸方式，有哪些缺點及問題？\n",
    "# 安全性問題，在這一來一往的過程當中，所傳輸的內容都是以明文作為傳送，故容易被竊取內容資訊。\n",
    "\n",
    "# 2. （簡答題）第 16 頁所使用的 JavaScipt 程式語言，跟我們一般使用的 Python 在執行上有什麼不同。\n",
    "# Javascript 程式語言較常運用在前端畫面， Python程式語言普遍運用在科學計算上。"
   ]
  }
 ],
 "metadata": {
  "kernelspec": {
   "display_name": "Python 3",
   "language": "python",
   "name": "python3"
  },
  "language_info": {
   "codemirror_mode": {
    "name": "ipython",
    "version": 3
   },
   "file_extension": ".py",
   "mimetype": "text/x-python",
   "name": "python",
   "nbconvert_exporter": "python",
   "pygments_lexer": "ipython3",
   "version": "3.6.0"
  }
 },
 "nbformat": 4,
 "nbformat_minor": 1
}
