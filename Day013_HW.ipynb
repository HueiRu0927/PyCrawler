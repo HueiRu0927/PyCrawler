{
 "cells": [
  {
   "cell_type": "code",
   "execution_count": 16,
   "metadata": {},
   "outputs": [],
   "source": [
    "# PTT 網路爬蟲實作練習\n",
    "# 能夠利用 Request + BeatifulSour 撰寫爬蟲，並存放到合適的資料結構\n",
    "# PTT 網頁爬蟲"
   ]
  },
  {
   "cell_type": "code",
   "execution_count": 67,
   "metadata": {},
   "outputs": [
    {
     "name": "stdout",
     "output_type": "stream",
     "text": [
      "08/05\n"
     ]
    },
    {
     "ename": "NameError",
     "evalue": "name 'parse' is not defined",
     "output_type": "error",
     "traceback": [
      "\u001b[1;31m---------------------------------------------------------------------------\u001b[0m",
      "\u001b[1;31mNameError\u001b[0m                                 Traceback (most recent call last)",
      "\u001b[1;32m<ipython-input-67-641c06daf7e3>\u001b[0m in \u001b[0;36m<module>\u001b[1;34m\u001b[0m\n\u001b[0;32m     15\u001b[0m     \u001b[0mtitle\u001b[0m \u001b[1;33m=\u001b[0m \u001b[1;34m'標題:'\u001b[0m \u001b[1;33m+\u001b[0m \u001b[0md\u001b[0m\u001b[1;33m.\u001b[0m\u001b[0mfind\u001b[0m\u001b[1;33m(\u001b[0m\u001b[0mclass_\u001b[0m\u001b[1;33m=\u001b[0m\u001b[1;34m'title'\u001b[0m\u001b[1;33m)\u001b[0m\u001b[1;33m.\u001b[0m\u001b[0mtext\u001b[0m\u001b[1;33m.\u001b[0m\u001b[0mreplace\u001b[0m\u001b[1;33m(\u001b[0m\u001b[1;34m'\\t'\u001b[0m\u001b[1;33m,\u001b[0m \u001b[1;34m''\u001b[0m\u001b[1;33m)\u001b[0m\u001b[1;33m.\u001b[0m\u001b[0mreplace\u001b[0m\u001b[1;33m(\u001b[0m\u001b[1;34m'\\n'\u001b[0m\u001b[1;33m,\u001b[0m \u001b[1;34m''\u001b[0m\u001b[1;33m)\u001b[0m\u001b[1;33m\u001b[0m\u001b[0m\n\u001b[0;32m     16\u001b[0m     \u001b[0mauthor\u001b[0m \u001b[1;33m=\u001b[0m \u001b[1;34m'作者:'\u001b[0m \u001b[1;33m+\u001b[0m \u001b[0md\u001b[0m\u001b[1;33m.\u001b[0m\u001b[0mfind\u001b[0m\u001b[1;33m(\u001b[0m\u001b[0mclass_\u001b[0m\u001b[1;33m=\u001b[0m\u001b[1;34m'author'\u001b[0m\u001b[1;33m)\u001b[0m\u001b[1;33m.\u001b[0m\u001b[0mtext\u001b[0m\u001b[1;33m.\u001b[0m\u001b[0mreplace\u001b[0m\u001b[1;33m(\u001b[0m\u001b[1;34m'\\t'\u001b[0m\u001b[1;33m,\u001b[0m \u001b[1;34m''\u001b[0m\u001b[1;33m)\u001b[0m\u001b[1;33m.\u001b[0m\u001b[0mreplace\u001b[0m\u001b[1;33m(\u001b[0m\u001b[1;34m'\\n'\u001b[0m\u001b[1;33m,\u001b[0m \u001b[1;34m''\u001b[0m\u001b[1;33m)\u001b[0m\u001b[1;33m\u001b[0m\u001b[0m\n\u001b[1;32m---> 17\u001b[1;33m     \u001b[0mdate_ptt\u001b[0m \u001b[1;33m=\u001b[0m \u001b[1;34m'時間:'\u001b[0m \u001b[1;33m+\u001b[0m \u001b[0mparse\u001b[0m\u001b[1;33m(\u001b[0m\u001b[0md\u001b[0m\u001b[1;33m.\u001b[0m\u001b[0mfind\u001b[0m\u001b[1;33m(\u001b[0m\u001b[0mclass_\u001b[0m\u001b[1;33m=\u001b[0m\u001b[1;34m'date'\u001b[0m\u001b[1;33m)\u001b[0m\u001b[1;33m.\u001b[0m\u001b[0mtext\u001b[0m\u001b[1;33m.\u001b[0m\u001b[0mreplace\u001b[0m\u001b[1;33m(\u001b[0m\u001b[1;34m'\\t'\u001b[0m\u001b[1;33m,\u001b[0m \u001b[1;34m''\u001b[0m\u001b[1;33m)\u001b[0m\u001b[1;33m.\u001b[0m\u001b[0mreplace\u001b[0m\u001b[1;33m(\u001b[0m\u001b[1;34m'\\n'\u001b[0m\u001b[1;33m,\u001b[0m \u001b[1;34m''\u001b[0m\u001b[1;33m)\u001b[0m\u001b[1;33m)\u001b[0m\u001b[1;33m.\u001b[0m\u001b[0mstrftime\u001b[0m\u001b[1;33m(\u001b[0m\u001b[1;34m\"%m/%d\"\u001b[0m\u001b[1;33m)\u001b[0m\u001b[1;33m\u001b[0m\u001b[0m\n\u001b[0m\u001b[0;32m     18\u001b[0m \u001b[1;33m\u001b[0m\u001b[0m\n",
      "\u001b[1;31mNameError\u001b[0m: name 'parse' is not defined"
     ]
    }
   ],
   "source": [
    "# ① 印出最新文章的「作者」「標題」「時間」\n",
    "\n",
    "import requests\n",
    "from bs4 import BeautifulSoup\n",
    "import datetime\n",
    "\n",
    "url = 'https://www.ptt.cc/bbs/NBA/index.html'\n",
    "r=requests.get(url)\n",
    "\n",
    "soup = BeautifulSoup(r.text, 'html5lib')\n",
    "today = datetime.date.today().strftime(\"%m/%d\")\n",
    "print(today)\n",
    "\n",
    "for d in soup.find_all(class_='r-ent'):\n",
    "    title = '標題:' + d.find(class_='title').text.replace('\\t', '').replace('\\n', '')\n",
    "    author = '作者:' + d.find(class_='author').text.replace('\\t', '').replace('\\n', '')\n",
    "    date_ptt = '時間:' + parse(d.find(class_='date').text.replace('\\t', '').replace('\\n', '')).strftime(\"%m/%d\")\n",
    "    "
   ]
  },
  {
   "cell_type": "code",
   "execution_count": 19,
   "metadata": {},
   "outputs": [
    {
     "name": "stdout",
     "output_type": "stream",
     "text": [
      "標題:[BOX ] Suns 117:115 Clippers 數據\n",
      "標題:[情報] Jaren Jackson Jr.剩餘賽季報銷\n",
      "作者:jackal44748 (流雲絮雨)\n",
      "時間:Wed Aug  5 07:21:02 2020\n",
      "標題:[情報] Lou談夜店事件 我應該做一個更好的選擇\n",
      "作者:love1500274 (CoWuCoWu)\n",
      "時間:Wed Aug  5 08:18:30 2020\n",
      "標題:[BOX ] Magic 109:120 Pacers 數據\n",
      "標題:[Live] 火箭 @ 拓荒者\n",
      "作者:Rambo (香帥)\n",
      "時間:Wed Aug  5 08:30:02 2020\n",
      "標題:(本文已被刪除) [namie810303]\n",
      "標題:[BOX ] Celtics 106:112 Heat 數據\n",
      "標題:[專欄] 籃板球不再是贏球保證 火箭小球新革命\n",
      "作者:laptic (靜夜聖林彼岸花)\n",
      "時間:Wed Aug  5 09:22:42 2020\n",
      "標題:[情報] Goran Dragic 將接受X光檢查（已沒事）\n",
      "作者:willy911006 (小溫)\n",
      "時間:Wed Aug  5 10:06:31 2020\n",
      "標題:[花邊] 一到奧蘭多 LeBron James就想家了\n",
      "作者:pneumo (超☆冒險蓋)\n",
      "時間:Wed Aug  5 10:27:11 2020\n",
      "標題:[情報] 艾弗森稱勒布朗是歷史最佳，帕金斯轉推：\n",
      "作者:wwf1588 (s-n-imn)\n",
      "時間:Wed Aug  5 10:45:26 2020\n",
      "標題:[專欄] 得分與Kobe相提並論 AD:在天堂為我們加油\n",
      "作者:ckny (辛苦的歲月)\n",
      "時間:Wed Aug  5 11:15:55 2020\n",
      "標題:[公告] 板規v6.8\n",
      "標題:[公告] 第一次被退文，可在三天後刪除退文\n",
      "作者:Vedan (味丹)\n",
      "時間:Mon Mar  9 11:44:26 2020\n",
      "標題:[情報] SEASON Schedule 賽程 August 19–20\n",
      "作者:Acetoxy (阿斯)\n",
      "時間:Fri Jul 31 22:12:12 2020\n",
      "標題:[公告] 20賽季若有季後賽 登入調整為720次 \n",
      "作者:namie810303 (雞頭媽媽被狗幹 爸爸是狗)\n",
      "時間:Mon Jul 13 08:27:04 2020\n"
     ]
    }
   ],
   "source": [
    "# ② 印出第一頁所有文章的「作者」「標題」「時間」\n",
    "\n",
    "import requests\n",
    "from bs4 import BeautifulSoup\n",
    "\n",
    "url = 'https://www.ptt.cc/bbs/NBA/index.html'\n",
    "r=requests.get(url)\n",
    "\n",
    "soup = BeautifulSoup(r.text, 'html5lib')\n",
    "\n",
    "for d in soup.find_all(class_='title'):\n",
    "    print('標題:' + d.text.replace('\\t', '').replace('\\n', ''))\n",
    "    try:\n",
    "        r =BeautifulSoup(requests.get('https://www.ptt.cc'+ d.find('a')['href']).text, 'html5lib')\n",
    "        print('作者:' + r.find(class_='article-meta-value').text)\n",
    "        print('時間:' + r.find(class_='article-meta-tag', string='時間').next_sibling.text)\n",
    "    except:\n",
    "        continue"
   ]
  },
  {
   "cell_type": "code",
   "execution_count": null,
   "metadata": {},
   "outputs": [],
   "source": [
    "# ③ 試著爬爬看其他版的文章\n",
    "\n",
    "for i "
   ]
  }
 ],
 "metadata": {
  "kernelspec": {
   "display_name": "Python 3",
   "language": "python",
   "name": "python3"
  },
  "language_info": {
   "codemirror_mode": {
    "name": "ipython",
    "version": 3
   },
   "file_extension": ".py",
   "mimetype": "text/x-python",
   "name": "python",
   "nbconvert_exporter": "python",
   "pygments_lexer": "ipython3",
   "version": "3.6.0"
  }
 },
 "nbformat": 4,
 "nbformat_minor": 1
}
