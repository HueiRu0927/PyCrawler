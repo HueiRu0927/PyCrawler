{
 "cells": [
  {
   "cell_type": "code",
   "execution_count": 7,
   "metadata": {},
   "outputs": [
    {
     "name": "stdout",
     "output_type": "stream",
     "text": [
      "這個API一次會傳回30筆資料\n",
      "每一筆資料包含以下資料 dict_keys(['id', 'title', 'excerpt', 'anonymousSchool', 'anonymousDepartment', 'pinned', 'forumId', 'replyId', 'createdAt', 'updatedAt', 'commentCount', 'likeCount', 'withNickname', 'tags', 'topics', 'meta', 'forumName', 'forumAlias', 'nsfw', 'gender', 'school', 'department', 'replyTitle', 'mediaMeta', 'reactions', 'hidden', 'customStyle', 'isSuspiciousAccount', 'layout', 'withImages', 'withVideos', 'media', 'reportReasonText', 'postAvatar'])\n"
     ]
    }
   ],
   "source": [
    "#1. 這個 API 一次會回傳幾筆資料？每一筆資料包含哪些欄位？\n",
    "import requests\n",
    "import json\n",
    "r = requests.get('https://www.dcard.tw/_api/forums/job/posts?popular=true')\n",
    "response = r.text\n",
    "data = json.loads(response)\n",
    "count = 0\n",
    "\n",
    "for d in data:\n",
    "    count +=1\n",
    "\n",
    "print(\"這個API一次會傳回%s筆資料\"%count)\n",
    "print(\"每一筆資料包含以下資料\", data[1].keys())"
   ]
  },
  {
   "cell_type": "code",
   "execution_count": 10,
   "metadata": {},
   "outputs": [
    {
     "name": "stdout",
     "output_type": "stream",
     "text": [
      "標題: <請先點我> 工作板＆實習、打工職缺刊登說明   貼文時間: 2017-01-01T06:27:39.650Z   留言人數: 42   按讚人數: 716\n",
      "標題: 就職第一天離職該跟老闆說什麼！急！在線等！(半解決)   貼文時間: 2020-06-16T14:43:57.083Z   留言人數: 28   按讚人數: 213\n",
      "標題: 面試好可怕好煎熬   貼文時間: 2020-06-16T15:22:05.068Z   留言人數: 31   按讚人數: 51\n",
      "標題: 連最基本的Excel都不會的新人很惱人   貼文時間: 2020-06-16T08:59:18.544Z   留言人數: 40   按讚人數: 34\n",
      "標題: 為什麼不推志願役   貼文時間: 2020-06-16T14:48:34.969Z   留言人數: 16   按讚人數: 30\n",
      "標題: 公司爛不是一天兩天的事   貼文時間: 2020-06-16T00:20:26.681Z   留言人數: 26   按讚人數: 28\n",
      "標題: 總算鼓起勇氣離開那公司！   貼文時間: 2020-06-17T00:53:06.292Z   留言人數: 5   按讚人數: 21\n",
      "標題: 勤業眾信顧問面試經驗   貼文時間: 2020-06-16T12:43:15.959Z   留言人數: 7   按讚人數: 21\n",
      "標題: 畢業生會不會excel ?   貼文時間: 2020-06-16T13:43:38.119Z   留言人數: 1   按讚人數: 19\n",
      "標題: 如果想走數位行銷，讀報表真的是基本功   貼文時間: 2020-06-16T04:20:18.686Z   留言人數: 3   按讚人數: 18\n",
      "標題: 慶云（文長）   貼文時間: 2020-06-16T02:22:18.770Z   留言人數: 27   按讚人數: 18\n",
      "標題: 對自己越來越沒信心   貼文時間: 2020-06-16T09:01:19.187Z   留言人數: 10   按讚人數: 17\n",
      "標題: 大樹藥局菜鳥分享   貼文時間: 2020-06-16T07:29:16.051Z   留言人數: 16   按讚人數: 16\n",
      "標題: 給剛出社會的我們   貼文時間: 2020-06-16T11:45:43.955Z   留言人數: 2   按讚人數: 15\n",
      "標題: 今年工作真的有比較難找嗎   貼文時間: 2020-06-16T16:23:48.065Z   留言人數: 11   按讚人數: 14\n",
      "標題: 徵才 正職 高雄/行政法人-國家運動訓練中心/行政專員   貼文時間: 2020-06-17T01:31:20.898Z   留言人數: 7   按讚人數: 12\n",
      "標題: 超商店員   貼文時間: 2020-06-16T20:44:53.986Z   留言人數: 9   按讚人數: 12\n",
      "標題: 不想永遠領這樣的薪水   貼文時間: 2020-06-16T16:56:24.697Z   留言人數: 3   按讚人數: 11\n",
      "標題: #詢問 新光三越信義企劃課員 錄取通知   貼文時間: 2020-06-16T09:26:19.817Z   留言人數: 7   按讚人數: 10\n",
      "標題: 工作10日 離職的問題   貼文時間: 2020-06-16T08:06:34.072Z   留言人數: 5   按讚人數: 10\n",
      "標題: 該不該走   貼文時間: 2020-06-16T00:23:43.240Z   留言人數: 8   按讚人數: 8\n",
      "標題: 明明可以卻一直被說不行   貼文時間: 2020-06-16T14:21:05.769Z   留言人數: 2   按讚人數: 7\n",
      "標題: 有人在台積電工作的嗎?   貼文時間: 2020-06-16T08:26:45.100Z   留言人數: 10   按讚人數: 7\n",
      "標題: 錄取 不知道要不要去...   貼文時間: 2020-06-16T06:57:48.136Z   留言人數: 19   按讚人數: 7\n",
      "標題: 疫情要到何時呢？   貼文時間: 2020-06-16T02:50:40.930Z   留言人數: 5   按讚人數: 7\n",
      "標題: 工作交接藏招會不會很邪惡   貼文時間: 2020-06-16T17:48:34.015Z   留言人數: 10   按讚人數: 6\n",
      "標題: 同溫層太厚，時常誤判大環境   貼文時間: 2020-06-16T13:21:00.281Z   留言人數: 8   按讚人數: 6\n",
      "標題: 機械  電機 資工 科系 畢業後工作起薪會差很多嗎？   貼文時間: 2020-06-16T01:37:48.135Z   留言人數: 58   按讚人數: 6\n",
      "標題: 到底是怎樣會被人嫌白紙？   貼文時間: 2020-06-17T06:28:38.579Z   留言人數: 0   按讚人數: 5\n",
      "標題: 想應徵飯店櫃檯   貼文時間: 2020-06-16T10:42:20.002Z   留言人數: 11   按讚人數: 5\n"
     ]
    }
   ],
   "source": [
    "#2. 取出每一筆資料的「標題」、「貼文時間」、「留言人數」、「按讚人數」\n",
    "\n",
    "for d in data:\n",
    "    print('標題:',d['title'],\" \",'貼文時間:',d['createdAt'],\" \",'留言人數:',d['commentCount'],\" \",'按讚人數:',d['likeCount'])"
   ]
  },
  {
   "cell_type": "code",
   "execution_count": 17,
   "metadata": {},
   "outputs": [
    {
     "name": "stdout",
     "output_type": "stream",
     "text": [
      "熱門文章的「平均留言人數」: 14.233333333333333\n",
      "熱門文章的「平均按讚人數」: 45.0\n",
      "非熱門文章的「平均留言人數」: 1.1\n",
      "非熱門文章的「平均按讚人數」: 0.9333333333333333\n"
     ]
    }
   ],
   "source": [
    "#3. 計算熱門/非熱門文章的「平均留言人數」與「平均按讚人數」\n",
    "# 先初始設定熱門文章數量\n",
    "count = 0\n",
    "comment = 0\n",
    "like = 0\n",
    "# 計算熱門文章的「平均留言人數」\n",
    "# 計算熱門文章的「平均按讚人數」\n",
    "for comment_like in data:\n",
    "    count += 1\n",
    "    comment += comment_like['commentCount']\n",
    "    like += comment_like['likeCount']\n",
    "print('熱門文章的「平均留言人數」:',comment/count)\n",
    "print('熱門文章的「平均按讚人數」:',like/count)\n",
    "\n",
    "# 計算非熱門文章的「平均留言人數」\n",
    "# 計算非熱門文章的「平均按讚人數」\n",
    "rf = requests.get('https://www.dcard.tw/_api/forums/job/posts?popular=false')\n",
    "responsef = rf.text\n",
    "dataf = json.loads(responsef)\n",
    "\n",
    "countf = 0\n",
    "commentf = 0\n",
    "likef = 0\n",
    "for commentf_likef in dataf:\n",
    "    countf += 1 \n",
    "    commentf += commentf_likef['commentCount']\n",
    "    likef += commentf_likef['likeCount']\n",
    "print('非熱門文章的「平均留言人數」:',commentf/countf)\n",
    "print('非熱門文章的「平均按讚人數」:',likef/countf)"
   ]
  },
  {
   "cell_type": "code",
   "execution_count": null,
   "metadata": {},
   "outputs": [],
   "source": []
  }
 ],
 "metadata": {
  "kernelspec": {
   "display_name": "Python 3",
   "language": "python",
   "name": "python3"
  },
  "language_info": {
   "codemirror_mode": {
    "name": "ipython",
    "version": 3
   },
   "file_extension": ".py",
   "mimetype": "text/x-python",
   "name": "python",
   "nbconvert_exporter": "python",
   "pygments_lexer": "ipython3",
   "version": "3.6.0"
  }
 },
 "nbformat": 4,
 "nbformat_minor": 2
}
